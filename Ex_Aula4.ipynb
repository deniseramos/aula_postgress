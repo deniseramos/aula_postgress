{
 "cells": [
  {
   "cell_type": "code",
   "execution_count": 1,
   "metadata": {},
   "outputs": [
    {
     "name": "stdout",
     "output_type": "stream",
     "text": [
      "database already exists\n"
     ]
    }
   ],
   "source": [
    "import psycopg2\n",
    "from psycopg2.extensions import ISOLATION_LEVEL_AUTOCOMMIT\n",
    "\n",
    "#criar banco de dados\n",
    "con = psycopg2.connect(host='localhost', database='imobiliaria', user='postgres', password='mimoso')\n",
    "con.set_isolation_level(ISOLATION_LEVEL_AUTOCOMMIT)\n",
    "cursor = con.cursor()\n",
    "name_database = \"imobiliaria\"\n",
    "sql_create_database = \"CREATE DATABASE {}\".format(name_database)\n",
    "try:\n",
    "    cursor.execute(sql_create_database)\n",
    "except:\n",
    "    print(\"database already exists\")"
   ]
  },
  {
   "cell_type": "code",
   "execution_count": 3,
   "metadata": {},
   "outputs": [
    {
     "name": "stdout",
     "output_type": "stream",
     "text": [
      " * Serving Flask app \"__main__\" (lazy loading)\n",
      " * Environment: production\n",
      "   WARNING: This is a development server. Do not use it in a production deployment.\n",
      "   Use a production WSGI server instead.\n",
      " * Debug mode: off\n"
     ]
    },
    {
     "name": "stderr",
     "output_type": "stream",
     "text": [
      " * Running on http://127.0.0.1:5001/ (Press CTRL+C to quit)\n"
     ]
    }
   ],
   "source": [
    "from flask import Flask, request\n",
    "import pandas as pd\n",
    "import matplotlib.pyplot as plt\n",
    "\n",
    "app = Flask(__name__)\n",
    "\n",
    "@app.route(\"/area/<area_min>/<area_max>\", methods=['GET'])\n",
    "def area(area_min, area_max):\n",
    "\n",
    "    query = \"SELECT * FROM info_casas WHERE area BETWEEN {area_min} AND {area_max}\".format(area_min=area_min, area_max=area_max)\n",
    "\n",
    "    try:\n",
    "        df = pd.read_sql(query, con)\n",
    "        \n",
    "        plt.scatter(df['area'], df['preco'])\n",
    "        plt.show()\n",
    "      \n",
    "        return df.to_json(orient='records'), 200\n",
    "    except:\n",
    "        return \"Não foi possível fazer SELECT na tabela.\", 500\n",
    "\n",
    "app.run(port=5001)"
   ]
  },
  {
   "cell_type": "code",
   "execution_count": 17,
   "metadata": {},
   "outputs": [
    {
     "name": "stdout",
     "output_type": "stream",
     "text": [
      " * Serving Flask app \"__main__\" (lazy loading)\n",
      " * Environment: production\n",
      "   WARNING: This is a development server. Do not use it in a production deployment.\n",
      "   Use a production WSGI server instead.\n",
      " * Debug mode: off\n"
     ]
    },
    {
     "name": "stderr",
     "output_type": "stream",
     "text": [
      " * Running on http://127.0.0.1:5001/ (Press CTRL+C to quit)\n"
     ]
    },
    {
     "data": {
      "image/png": "[encoded data removed]",
      "text/plain": [
       "<Figure size 432x288 with 1 Axes>"
      ]
     },
     "metadata": {
      "needs_background": "light"
     },
     "output_type": "display_data"
    },
    {
     "name": "stderr",
     "output_type": "stream",
     "text": [
      "127.0.0.1 - - [10/Feb/2020 17:28:47] \"GET /maiorpreco HTTP/1.1\" 200 -\n"
     ]
    }
   ],
   "source": [
    "@app.route(\"/maiorpreco\", methods=['GET'])\n",
    "def maiorpreco():\n",
    "\n",
    "    query = \"SELECT * FROM info_casas ORDER BY preco DESC LIMIT 15\"\n",
    "\n",
    "    try:\n",
    "        df = pd.read_sql(query, con)\n",
    "        \n",
    "        plt.plot(df['preco'], df['qte_quartos'])\n",
    "        plt.show()\n",
    "      \n",
    "        return df.to_json(orient='records'), 200\n",
    "    except:\n",
    "        return \"Não foi possível fazer SELECT na tabela.\", 500\n",
    "\n",
    "app.run(port=5001)"
   ]
  },
  {
   "cell_type": "code",
   "execution_count": 18,
   "metadata": {},
   "outputs": [
    {
     "name": "stdout",
     "output_type": "stream",
     "text": [
      " * Serving Flask app \"__main__\" (lazy loading)\n",
      " * Environment: production\n",
      "   WARNING: This is a development server. Do not use it in a production deployment.\n",
      "   Use a production WSGI server instead.\n",
      " * Debug mode: off\n"
     ]
    },
    {
     "name": "stderr",
     "output_type": "stream",
     "text": [
      " * Running on http://127.0.0.1:5001/ (Press CTRL+C to quit)\n"
     ]
    },
    {
     "data": {
      "image/png": "[encoded data removed]",
      "text/plain": [
       "<Figure size 432x288 with 1 Axes>"
      ]
     },
     "metadata": {
      "needs_background": "light"
     },
     "output_type": "display_data"
    },
    {
     "name": "stderr",
     "output_type": "stream",
     "text": [
      "127.0.0.1 - - [10/Feb/2020 17:29:13] \"GET /banheiros/4 HTTP/1.1\" 200 -\n"
     ]
    }
   ],
   "source": [
    "@app.route(\"/banheiros/<qtd_ban>\", methods=['GET'])\n",
    "def banheiros(qtd_ban):\n",
    "\n",
    "    query = \"SELECT * FROM info_casas WHERE qte_banheiros = {qtd_ban}\".format(qtd_ban=qtd_ban)\n",
    "\n",
    "    try:\n",
    "        df = pd.read_sql(query, con)\n",
    "        \n",
    "        plt.hist(df['qte_quartos'])\n",
    "        plt.show()\n",
    "        \n",
    "        return df.to_json(orient='records'), 200\n",
    "    except:\n",
    "        return \"Não foi possível fazer SELECT na tabela.\", 500\n",
    "\n",
    "app.run(port=5001)"
   ]
  },
  {
   "cell_type": "code",
   "execution_count": 26,
   "metadata": {},
   "outputs": [
    {
     "name": "stdout",
     "output_type": "stream",
     "text": [
      " * Serving Flask app \"__main__\" (lazy loading)\n",
      " * Environment: production\n",
      "   WARNING: This is a development server. Do not use it in a production deployment.\n",
      "   Use a production WSGI server instead.\n",
      " * Debug mode: off\n"
     ]
    },
    {
     "name": "stderr",
     "output_type": "stream",
     "text": [
      " * Running on http://127.0.0.1:5001/ (Press CTRL+C to quit)\n",
      "127.0.0.1 - - [10/Feb/2020 17:33:17] \"PUT /atualizar_cep HTTP/1.1\" 200 -\n"
     ]
    }
   ],
   "source": [
    "@app.route(\"/atualizar_cep\", methods=['PUT'])\n",
    "def atualizar_cep():\n",
    "    post_args = request.json\n",
    "    if \"cep\" not in post_args:\n",
    "        return \"O cep não foi informado no dado recebido.\", 400\n",
    "    \n",
    "    if \"qte_quartos\" in post_args:\n",
    "        query = \"UPDATE info_casas SET qte_quartos = {qte_quartos} WHERE cep = {cep}\".format(qte_quartos=post_args[\"qte_quartos\"], cep=post_args[\"cep\"])\n",
    "        cursor.execute(query)\n",
    "    if \"qte_banheiros\" in post_args:\n",
    "        query = \"UPDATE info_casas SET qte_banheiros = {qte_banheiros} WHERE cep = {cep}\".format(qte_banheiros=post_args[\"qte_banheiros\"], cep=post_args[\"cep\"])\n",
    "        cursor.execute(query)\n",
    "    if \"area\" in post_args:\n",
    "        query = \"UPDATE info_casas SET area = {area} WHERE cep = {cep}\".format(area=post_args[\"area\"], cep=post_args[\"cep\"])\n",
    "        cursor.execute(query)\n",
    "    if \"preco\" in post_args:\n",
    "        query = \"UPDATE info_casas SET preco = {preco} WHERE cep = {cep}\".format(preco=post_args[\"preco\"], cep=post_args[\"cep\"])\n",
    "        cursor.execute(query)\n",
    "    con.commit()\n",
    "    return \"Registro atualizado com sucesso!\", 200\n",
    "\n",
    "app.run(port=5001)"
   ]
  },
  {
   "cell_type": "code",
   "execution_count": 27,
   "metadata": {},
   "outputs": [
    {
     "name": "stdout",
     "output_type": "stream",
     "text": [
      " * Serving Flask app \"__main__\" (lazy loading)\n",
      " * Environment: production\n",
      "   WARNING: This is a development server. Do not use it in a production deployment.\n",
      "   Use a production WSGI server instead.\n",
      " * Debug mode: off\n"
     ]
    },
    {
     "name": "stderr",
     "output_type": "stream",
     "text": [
      " * Running on http://127.0.0.1:5001/ (Press CTRL+C to quit)\n",
      "127.0.0.1 - - [10/Feb/2020 17:33:50] \"DELETE /deletar HTTP/1.1\" 200 -\n"
     ]
    }
   ],
   "source": [
    "@app.route(\"/deletar\", methods=['DELETE'])\n",
    "def deletar():\n",
    "    post_args = request.json\n",
    "    if \"cep\" not in post_args:\n",
    "        return \"O cep não foi informado.\", 400\n",
    "    \n",
    "    query = \"DELETE FROM info_casas WHERE cep = {cep};\".format(cep=post_args[\"cep\"])\n",
    "    cursor.execute(query)\n",
    "    con.commit()\n",
    "    return \"Registro deletado com sucesso!\", 200\n",
    "\n",
    "app.run(port=5001)"
   ]
  }
 ],
 "metadata": {
  "kernelspec": {
   "display_name": "Python 3",
   "language": "python",
   "name": "python3"
  },
  "language_info": {
   "codemirror_mode": {
    "name": "ipython",
    "version": 3
   },
   "file_extension": ".py",
   "mimetype": "text/x-python",
   "name": "python",
   "nbconvert_exporter": "python",
   "pygments_lexer": "ipython3",
   "version": "3.7.4"
  }
 },
 "nbformat": 4,
 "nbformat_minor": 2
}
